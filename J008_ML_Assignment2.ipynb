{
 "cells": [
  {
   "cell_type": "markdown",
   "id": "753173a3",
   "metadata": {},
   "source": [
    "Name: Mayank Bhansali\n",
    "Roll no.: J008\n",
    "\n",
    "    \n",
    "    \n",
    "    \n",
    "Assignment 2"
   ]
  },
  {
   "cell_type": "code",
   "execution_count": 1,
   "id": "d36fbc26",
   "metadata": {},
   "outputs": [],
   "source": [
    "import numpy as np\n",
    "import time"
   ]
  },
  {
   "cell_type": "code",
   "execution_count": 2,
   "id": "e7797d49",
   "metadata": {},
   "outputs": [],
   "source": [
    "mat1 = np.arange(11, 20, 1)\n",
    "A = mat1.reshape(3, 3)"
   ]
  },
  {
   "cell_type": "code",
   "execution_count": 3,
   "id": "122c3544",
   "metadata": {},
   "outputs": [],
   "source": [
    "mat2 = np.arange(10, 19, 1)\n",
    "B = mat2.reshape(3, 3)"
   ]
  },
  {
   "cell_type": "code",
   "execution_count": 4,
   "id": "4513e7ba",
   "metadata": {},
   "outputs": [],
   "source": [
    "mat3 = np.arange(0, 9, 1)\n",
    "C = mat3.reshape(3, 3)"
   ]
  },
  {
   "cell_type": "markdown",
   "id": "743ff588",
   "metadata": {},
   "source": [
    "A.B != B.A"
   ]
  },
  {
   "cell_type": "code",
   "execution_count": 5,
   "id": "c52db454",
   "metadata": {},
   "outputs": [
    {
     "data": {
      "text/plain": [
       "array([[474, 510, 546],\n",
       "       [591, 636, 681],\n",
       "       [708, 762, 816]])"
      ]
     },
     "execution_count": 5,
     "metadata": {},
     "output_type": "execute_result"
    }
   ],
   "source": [
    "np.dot(A, B)"
   ]
  },
  {
   "cell_type": "code",
   "execution_count": 6,
   "id": "11fb7a3d",
   "metadata": {},
   "outputs": [
    {
     "data": {
      "text/plain": [
       "array([[468, 501, 534],\n",
       "       [594, 636, 678],\n",
       "       [720, 771, 822]])"
      ]
     },
     "execution_count": 6,
     "metadata": {},
     "output_type": "execute_result"
    }
   ],
   "source": [
    "np.dot(B, A)"
   ]
  },
  {
   "cell_type": "markdown",
   "id": "8d65ee39",
   "metadata": {},
   "source": [
    "We can see that A.B is not equal to B.A"
   ]
  },
  {
   "cell_type": "markdown",
   "id": "47744097",
   "metadata": {},
   "source": [
    "A(BC)!=(AB)C"
   ]
  },
  {
   "cell_type": "code",
   "execution_count": 7,
   "id": "1772af6d",
   "metadata": {},
   "outputs": [
    {
     "data": {
      "text/plain": [
       "array([[ 4806,  6336,  7866],\n",
       "       [ 5994,  7902,  9810],\n",
       "       [ 7182,  9468, 11754]])"
      ]
     },
     "execution_count": 7,
     "metadata": {},
     "output_type": "execute_result"
    }
   ],
   "source": [
    "A.dot(B.dot(C))"
   ]
  },
  {
   "cell_type": "code",
   "execution_count": 8,
   "id": "69632f7f",
   "metadata": {},
   "outputs": [
    {
     "data": {
      "text/plain": [
       "array([[ 4806,  6336,  7866],\n",
       "       [ 5994,  7902,  9810],\n",
       "       [ 7182,  9468, 11754]])"
      ]
     },
     "execution_count": 8,
     "metadata": {},
     "output_type": "execute_result"
    }
   ],
   "source": [
    "(A.dot(B)).dot(C)"
   ]
  },
  {
   "cell_type": "markdown",
   "id": "b68ffe3c",
   "metadata": {},
   "source": [
    "We can see that A(BC) is not equal to (AB)C"
   ]
  },
  {
   "cell_type": "markdown",
   "id": "35f2ed73",
   "metadata": {},
   "source": [
    "A(B+C)=AB+BC"
   ]
  },
  {
   "cell_type": "code",
   "execution_count": 9,
   "id": "190adb94",
   "metadata": {},
   "outputs": [
    {
     "data": {
      "text/plain": [
       "array([[ 588,  660,  732],\n",
       "       [ 732,  822,  912],\n",
       "       [ 876,  984, 1092]])"
      ]
     },
     "execution_count": 9,
     "metadata": {},
     "output_type": "execute_result"
    }
   ],
   "source": [
    "A.dot(B+C)"
   ]
  },
  {
   "cell_type": "code",
   "execution_count": 10,
   "id": "a8944f53",
   "metadata": {},
   "outputs": [
    {
     "data": {
      "text/plain": [
       "array([[ 588,  660,  732],\n",
       "       [ 732,  822,  912],\n",
       "       [ 876,  984, 1092]])"
      ]
     },
     "execution_count": 10,
     "metadata": {},
     "output_type": "execute_result"
    }
   ],
   "source": [
    "(A.dot(B))+(A.dot(C))"
   ]
  },
  {
   "cell_type": "markdown",
   "id": "8de0ce67",
   "metadata": {},
   "source": [
    "We can see that A(B+C) is equal to AB+BC"
   ]
  },
  {
   "cell_type": "markdown",
   "id": "073a0713",
   "metadata": {},
   "source": [
    "AI=IA"
   ]
  },
  {
   "cell_type": "code",
   "execution_count": 11,
   "id": "4795da4a",
   "metadata": {},
   "outputs": [],
   "source": [
    "A=np.random.randint(0,5,(6,6))\n",
    "I=np.identity(6)"
   ]
  },
  {
   "cell_type": "code",
   "execution_count": 12,
   "id": "758919d3",
   "metadata": {},
   "outputs": [
    {
     "data": {
      "text/plain": [
       "array([[3., 0., 4., 0., 0., 1.],\n",
       "       [3., 2., 3., 2., 1., 3.],\n",
       "       [4., 0., 4., 4., 0., 0.],\n",
       "       [3., 4., 1., 3., 0., 1.],\n",
       "       [2., 3., 0., 2., 0., 2.],\n",
       "       [0., 3., 3., 2., 4., 0.]])"
      ]
     },
     "execution_count": 12,
     "metadata": {},
     "output_type": "execute_result"
    }
   ],
   "source": [
    "A.dot(I)"
   ]
  },
  {
   "cell_type": "code",
   "execution_count": 13,
   "id": "8f61e303",
   "metadata": {},
   "outputs": [
    {
     "data": {
      "text/plain": [
       "array([[3., 0., 4., 0., 0., 1.],\n",
       "       [3., 2., 3., 2., 1., 3.],\n",
       "       [4., 0., 4., 4., 0., 0.],\n",
       "       [3., 4., 1., 3., 0., 1.],\n",
       "       [2., 3., 0., 2., 0., 2.],\n",
       "       [0., 3., 3., 2., 4., 0.]])"
      ]
     },
     "execution_count": 13,
     "metadata": {},
     "output_type": "execute_result"
    }
   ],
   "source": [
    "I.dot(A)"
   ]
  },
  {
   "cell_type": "markdown",
   "id": "b77bf5ba",
   "metadata": {},
   "source": [
    "We can see that A.I=I.A"
   ]
  },
  {
   "cell_type": "raw",
   "id": "ef22a6c5",
   "metadata": {},
   "source": [
    "Matrix Inversion:"
   ]
  },
  {
   "cell_type": "code",
   "execution_count": 14,
   "id": "af918a1a",
   "metadata": {},
   "outputs": [],
   "source": [
    "matrix=np.random.randint(0,20,(5,5))"
   ]
  },
  {
   "cell_type": "code",
   "execution_count": 15,
   "id": "43eb85fe",
   "metadata": {},
   "outputs": [],
   "source": [
    "matrix_inverted=np.linalg.inv(matrix)"
   ]
  },
  {
   "cell_type": "code",
   "execution_count": 16,
   "id": "1338b966",
   "metadata": {},
   "outputs": [
    {
     "data": {
      "text/plain": [
       "(array([[ 5,  3, 16, 17, 10],\n",
       "        [ 0, 12,  4,  0,  1],\n",
       "        [ 8,  0,  7,  7, 13],\n",
       "        [ 4,  8,  8, 11,  7],\n",
       "        [ 3,  8,  7, 12,  7]]),\n",
       " array([[-1.50705799e-01, -1.89397786e-01, -5.29095156e-02,\n",
       "          1.15497106e+00, -8.14359703e-01],\n",
       "        [-4.41758911e-02,  4.48867675e-02, -9.44450086e-03,\n",
       "          7.37280390e-02,  5.07768864e-04],\n",
       "        [ 1.21864527e-01,  8.30709861e-02, -8.42896314e-03,\n",
       "         -3.09739007e-02, -1.39331776e-01],\n",
       "        [-2.88412715e-02, -1.06326800e-01, -6.13384787e-02,\n",
       "          1.23997156e-01,  4.63085204e-02],\n",
       "        [ 4.26525845e-02,  1.29074845e-01,  1.47049863e-01,\n",
       "         -7.60840865e-01,  5.51233878e-01]]))"
      ]
     },
     "execution_count": 16,
     "metadata": {},
     "output_type": "execute_result"
    }
   ],
   "source": [
    "matrix,matrix_inverted"
   ]
  },
  {
   "cell_type": "markdown",
   "id": "311fa9c9",
   "metadata": {},
   "source": [
    "Addition using for loop"
   ]
  },
  {
   "cell_type": "code",
   "execution_count": 25,
   "id": "6efa4c70",
   "metadata": {},
   "outputs": [],
   "source": [
    "mat1=np.random.randint(100,size=(5,5))\n",
    "mat2=np.random.randint(100,size=(5,5))"
   ]
  },
  {
   "cell_type": "code",
   "execution_count": 27,
   "id": "4182244c",
   "metadata": {},
   "outputs": [
    {
     "name": "stdout",
     "output_type": "stream",
     "text": [
      "0.0003147125244140625\n"
     ]
    }
   ],
   "source": [
    "start=time.time()\n",
    "for i in range(len(mat1)):\n",
    "    for j in range(len(mat1)):\n",
    "        mat1[i][j]+=mat1[i][j]+1\n",
    "print(time.time()-start)"
   ]
  },
  {
   "cell_type": "markdown",
   "id": "cb93a6f4",
   "metadata": {},
   "source": [
    "Addition using inbuilt function"
   ]
  },
  {
   "cell_type": "code",
   "execution_count": 29,
   "id": "6dd14c2a",
   "metadata": {},
   "outputs": [
    {
     "name": "stdout",
     "output_type": "stream",
     "text": [
      "0.00914907455444336\n"
     ]
    }
   ],
   "source": [
    "start=time.time()\n",
    "ans=np.add(mat2,mat2)\n",
    "print(time.time()-start)"
   ]
  }
 ],
 "metadata": {
  "kernelspec": {
   "display_name": "Python 3",
   "language": "python",
   "name": "python3"
  },
  "language_info": {
   "codemirror_mode": {
    "name": "ipython",
    "version": 3
   },
   "file_extension": ".py",
   "mimetype": "text/x-python",
   "name": "python",
   "nbconvert_exporter": "python",
   "pygments_lexer": "ipython3",
   "version": "3.8.8"
  }
 },
 "nbformat": 4,
 "nbformat_minor": 5
}
