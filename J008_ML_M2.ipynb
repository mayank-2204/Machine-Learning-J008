{
  "nbformat": 4,
  "nbformat_minor": 5,
  "metadata": {
    "colab": {
      "name": "ML_M2.ipynb",
      "provenance": [],
      "collapsed_sections": []
    },
    "kernelspec": {
      "display_name": "Python 3",
      "language": "python",
      "name": "python3"
    },
    "language_info": {
      "codemirror_mode": {
        "name": "ipython",
        "version": 3
      },
      "file_extension": ".py",
      "mimetype": "text/x-python",
      "name": "python",
      "nbconvert_exporter": "python",
      "pygments_lexer": "ipython3",
      "version": "3.8.8"
    }
  },
  "cells": [
    {
      "cell_type": "markdown",
      "metadata": {
        "id": "c3323468"
      },
      "source": [
        "### Imports"
      ],
      "id": "c3323468"
    },
    {
      "cell_type": "code",
      "metadata": {
        "id": "aa08c4d4"
      },
      "source": [
        "import pandas as pd\n",
        "import numpy as np\n",
        "import matplotlib.pyplot as plt\n",
        "import seaborn as sns\n",
        "from sklearn.model_selection import train_test_split\n",
        "from sklearn.model_selection import GridSearchCV"
      ],
      "id": "aa08c4d4",
      "execution_count": 1,
      "outputs": []
    },
    {
      "cell_type": "code",
      "metadata": {
        "id": "8a0714fd"
      },
      "source": [
        "train=pd.read_csv(\"train.csv\")\n",
        "test=pd.read_csv(\"test.csv\")"
      ],
      "id": "8a0714fd",
      "execution_count": 2,
      "outputs": []
    },
    {
      "cell_type": "code",
      "metadata": {
        "colab": {
          "base_uri": "https://localhost:8080/",
          "height": 326
        },
        "id": "0bcb91ef",
        "outputId": "70bea821-50b6-4e58-bb55-8c51083a1140"
      },
      "source": [
        "train.head()"
      ],
      "id": "0bcb91ef",
      "execution_count": 3,
      "outputs": [
        {
          "output_type": "execute_result",
          "data": {
            "text/html": [
              "<div>\n",
              "<style scoped>\n",
              "    .dataframe tbody tr th:only-of-type {\n",
              "        vertical-align: middle;\n",
              "    }\n",
              "\n",
              "    .dataframe tbody tr th {\n",
              "        vertical-align: top;\n",
              "    }\n",
              "\n",
              "    .dataframe thead th {\n",
              "        text-align: right;\n",
              "    }\n",
              "</style>\n",
              "<table border=\"1\" class=\"dataframe\">\n",
              "  <thead>\n",
              "    <tr style=\"text-align: right;\">\n",
              "      <th></th>\n",
              "      <th>id</th>\n",
              "      <th>Unnamed: 0.1</th>\n",
              "      <th>Date</th>\n",
              "      <th>AveragePrice</th>\n",
              "      <th>Total Volume</th>\n",
              "      <th>4046</th>\n",
              "      <th>4225</th>\n",
              "      <th>4770</th>\n",
              "      <th>Total Bags</th>\n",
              "      <th>Small Bags</th>\n",
              "      <th>Large Bags</th>\n",
              "      <th>XLarge Bags</th>\n",
              "      <th>type</th>\n",
              "      <th>year</th>\n",
              "      <th>region</th>\n",
              "    </tr>\n",
              "  </thead>\n",
              "  <tbody>\n",
              "    <tr>\n",
              "      <th>0</th>\n",
              "      <td>7319</td>\n",
              "      <td>37</td>\n",
              "      <td>2015-04-12</td>\n",
              "      <td>1.06</td>\n",
              "      <td>5636644.51</td>\n",
              "      <td>2848184.00</td>\n",
              "      <td>1988818.23</td>\n",
              "      <td>185198.77</td>\n",
              "      <td>614443.51</td>\n",
              "      <td>532714.02</td>\n",
              "      <td>79865.30</td>\n",
              "      <td>1864.19</td>\n",
              "      <td>conventional</td>\n",
              "      <td>2015</td>\n",
              "      <td>California</td>\n",
              "    </tr>\n",
              "    <tr>\n",
              "      <th>1</th>\n",
              "      <td>8410</td>\n",
              "      <td>10</td>\n",
              "      <td>2017-10-22</td>\n",
              "      <td>1.26</td>\n",
              "      <td>269443.25</td>\n",
              "      <td>159833.64</td>\n",
              "      <td>24349.84</td>\n",
              "      <td>1576.11</td>\n",
              "      <td>83683.66</td>\n",
              "      <td>73112.43</td>\n",
              "      <td>10571.23</td>\n",
              "      <td>0.00</td>\n",
              "      <td>conventional</td>\n",
              "      <td>2017</td>\n",
              "      <td>NewOrleansMobile</td>\n",
              "    </tr>\n",
              "    <tr>\n",
              "      <th>2</th>\n",
              "      <td>2732</td>\n",
              "      <td>12</td>\n",
              "      <td>2017-10-08</td>\n",
              "      <td>1.65</td>\n",
              "      <td>24397166.19</td>\n",
              "      <td>8911144.20</td>\n",
              "      <td>7609509.90</td>\n",
              "      <td>391832.89</td>\n",
              "      <td>7484679.20</td>\n",
              "      <td>5444021.28</td>\n",
              "      <td>1976738.84</td>\n",
              "      <td>63919.08</td>\n",
              "      <td>conventional</td>\n",
              "      <td>2017</td>\n",
              "      <td>TotalUS</td>\n",
              "    </tr>\n",
              "    <tr>\n",
              "      <th>3</th>\n",
              "      <td>17161</td>\n",
              "      <td>21</td>\n",
              "      <td>2017-08-06</td>\n",
              "      <td>1.34</td>\n",
              "      <td>476535.85</td>\n",
              "      <td>191792.73</td>\n",
              "      <td>140575.29</td>\n",
              "      <td>21769.92</td>\n",
              "      <td>122397.91</td>\n",
              "      <td>113356.35</td>\n",
              "      <td>6642.56</td>\n",
              "      <td>2399.00</td>\n",
              "      <td>conventional</td>\n",
              "      <td>2017</td>\n",
              "      <td>SanDiego</td>\n",
              "    </tr>\n",
              "    <tr>\n",
              "      <th>4</th>\n",
              "      <td>6249</td>\n",
              "      <td>21</td>\n",
              "      <td>2017-08-06</td>\n",
              "      <td>1.43</td>\n",
              "      <td>1762012.56</td>\n",
              "      <td>675558.34</td>\n",
              "      <td>580796.32</td>\n",
              "      <td>7231.22</td>\n",
              "      <td>498426.68</td>\n",
              "      <td>440097.50</td>\n",
              "      <td>44108.31</td>\n",
              "      <td>14220.87</td>\n",
              "      <td>conventional</td>\n",
              "      <td>2017</td>\n",
              "      <td>Plains</td>\n",
              "    </tr>\n",
              "  </tbody>\n",
              "</table>\n",
              "</div>"
            ],
            "text/plain": [
              "      id  Unnamed: 0.1        Date  ...          type  year            region\n",
              "0   7319            37  2015-04-12  ...  conventional  2015        California\n",
              "1   8410            10  2017-10-22  ...  conventional  2017  NewOrleansMobile\n",
              "2   2732            12  2017-10-08  ...  conventional  2017           TotalUS\n",
              "3  17161            21  2017-08-06  ...  conventional  2017          SanDiego\n",
              "4   6249            21  2017-08-06  ...  conventional  2017            Plains\n",
              "\n",
              "[5 rows x 15 columns]"
            ]
          },
          "metadata": {},
          "execution_count": 3
        }
      ]
    },
    {
      "cell_type": "code",
      "metadata": {
        "colab": {
          "base_uri": "https://localhost:8080/",
          "height": 306
        },
        "id": "25af70bd",
        "outputId": "9d675828-f099-4cb6-e194-4be143568168"
      },
      "source": [
        "test.head()"
      ],
      "id": "25af70bd",
      "execution_count": 4,
      "outputs": [
        {
          "output_type": "execute_result",
          "data": {
            "text/html": [
              "<div>\n",
              "<style scoped>\n",
              "    .dataframe tbody tr th:only-of-type {\n",
              "        vertical-align: middle;\n",
              "    }\n",
              "\n",
              "    .dataframe tbody tr th {\n",
              "        vertical-align: top;\n",
              "    }\n",
              "\n",
              "    .dataframe thead th {\n",
              "        text-align: right;\n",
              "    }\n",
              "</style>\n",
              "<table border=\"1\" class=\"dataframe\">\n",
              "  <thead>\n",
              "    <tr style=\"text-align: right;\">\n",
              "      <th></th>\n",
              "      <th>id</th>\n",
              "      <th>Unnamed: 0.1</th>\n",
              "      <th>Date</th>\n",
              "      <th>Total Volume</th>\n",
              "      <th>4046</th>\n",
              "      <th>4225</th>\n",
              "      <th>4770</th>\n",
              "      <th>Total Bags</th>\n",
              "      <th>Small Bags</th>\n",
              "      <th>Large Bags</th>\n",
              "      <th>XLarge Bags</th>\n",
              "      <th>type</th>\n",
              "      <th>year</th>\n",
              "      <th>region</th>\n",
              "    </tr>\n",
              "  </thead>\n",
              "  <tbody>\n",
              "    <tr>\n",
              "      <th>0</th>\n",
              "      <td>2</td>\n",
              "      <td>27</td>\n",
              "      <td>2016-06-19</td>\n",
              "      <td>13092.10</td>\n",
              "      <td>5180.03</td>\n",
              "      <td>6593.84</td>\n",
              "      <td>0.00</td>\n",
              "      <td>1318.23</td>\n",
              "      <td>563.36</td>\n",
              "      <td>754.87</td>\n",
              "      <td>0.0</td>\n",
              "      <td>organic</td>\n",
              "      <td>2016</td>\n",
              "      <td>LasVegas</td>\n",
              "    </tr>\n",
              "    <tr>\n",
              "      <th>1</th>\n",
              "      <td>3</td>\n",
              "      <td>49</td>\n",
              "      <td>2015-01-18</td>\n",
              "      <td>367047.36</td>\n",
              "      <td>83097.77</td>\n",
              "      <td>238956.51</td>\n",
              "      <td>5672.46</td>\n",
              "      <td>39320.62</td>\n",
              "      <td>39320.62</td>\n",
              "      <td>0.00</td>\n",
              "      <td>0.0</td>\n",
              "      <td>conventional</td>\n",
              "      <td>2015</td>\n",
              "      <td>Sacramento</td>\n",
              "    </tr>\n",
              "    <tr>\n",
              "      <th>2</th>\n",
              "      <td>7</td>\n",
              "      <td>28</td>\n",
              "      <td>2016-06-12</td>\n",
              "      <td>16462.75</td>\n",
              "      <td>2079.57</td>\n",
              "      <td>5830.96</td>\n",
              "      <td>0.00</td>\n",
              "      <td>8552.22</td>\n",
              "      <td>894.77</td>\n",
              "      <td>7657.45</td>\n",
              "      <td>0.0</td>\n",
              "      <td>organic</td>\n",
              "      <td>2016</td>\n",
              "      <td>Atlanta</td>\n",
              "    </tr>\n",
              "    <tr>\n",
              "      <th>3</th>\n",
              "      <td>8</td>\n",
              "      <td>28</td>\n",
              "      <td>2017-06-18</td>\n",
              "      <td>149975.22</td>\n",
              "      <td>38471.13</td>\n",
              "      <td>9716.75</td>\n",
              "      <td>0.00</td>\n",
              "      <td>101787.34</td>\n",
              "      <td>94445.95</td>\n",
              "      <td>7341.39</td>\n",
              "      <td>0.0</td>\n",
              "      <td>organic</td>\n",
              "      <td>2017</td>\n",
              "      <td>SouthCentral</td>\n",
              "    </tr>\n",
              "    <tr>\n",
              "      <th>4</th>\n",
              "      <td>17</td>\n",
              "      <td>44</td>\n",
              "      <td>2015-02-22</td>\n",
              "      <td>7176.69</td>\n",
              "      <td>651.55</td>\n",
              "      <td>5368.11</td>\n",
              "      <td>0.00</td>\n",
              "      <td>1157.03</td>\n",
              "      <td>340.00</td>\n",
              "      <td>817.03</td>\n",
              "      <td>0.0</td>\n",
              "      <td>organic</td>\n",
              "      <td>2015</td>\n",
              "      <td>Detroit</td>\n",
              "    </tr>\n",
              "  </tbody>\n",
              "</table>\n",
              "</div>"
            ],
            "text/plain": [
              "   id  Unnamed: 0.1        Date  ...          type  year        region\n",
              "0   2            27  2016-06-19  ...       organic  2016      LasVegas\n",
              "1   3            49  2015-01-18  ...  conventional  2015    Sacramento\n",
              "2   7            28  2016-06-12  ...       organic  2016       Atlanta\n",
              "3   8            28  2017-06-18  ...       organic  2017  SouthCentral\n",
              "4  17            44  2015-02-22  ...       organic  2015       Detroit\n",
              "\n",
              "[5 rows x 14 columns]"
            ]
          },
          "metadata": {},
          "execution_count": 4
        }
      ]
    },
    {
      "cell_type": "code",
      "metadata": {
        "colab": {
          "base_uri": "https://localhost:8080/"
        },
        "id": "b830031d",
        "outputId": "5e4a5a7a-1ce1-41a6-c04c-939f637e1d3b"
      },
      "source": [
        "train.isna().sum()"
      ],
      "id": "b830031d",
      "execution_count": 5,
      "outputs": [
        {
          "output_type": "execute_result",
          "data": {
            "text/plain": [
              "id              0\n",
              "Unnamed: 0.1    0\n",
              "Date            0\n",
              "AveragePrice    0\n",
              "Total Volume    0\n",
              "4046            0\n",
              "4225            0\n",
              "4770            0\n",
              "Total Bags      0\n",
              "Small Bags      0\n",
              "Large Bags      0\n",
              "XLarge Bags     0\n",
              "type            0\n",
              "year            0\n",
              "region          0\n",
              "dtype: int64"
            ]
          },
          "metadata": {},
          "execution_count": 5
        }
      ]
    },
    {
      "cell_type": "code",
      "metadata": {
        "colab": {
          "base_uri": "https://localhost:8080/"
        },
        "id": "2ec2d9d7",
        "outputId": "deae32bd-a49e-40e3-976a-a83c4513e09c"
      },
      "source": [
        "test.isna().sum()"
      ],
      "id": "2ec2d9d7",
      "execution_count": 6,
      "outputs": [
        {
          "output_type": "execute_result",
          "data": {
            "text/plain": [
              "id              0\n",
              "Unnamed: 0.1    0\n",
              "Date            0\n",
              "Total Volume    0\n",
              "4046            0\n",
              "4225            0\n",
              "4770            0\n",
              "Total Bags      0\n",
              "Small Bags      0\n",
              "Large Bags      0\n",
              "XLarge Bags     0\n",
              "type            0\n",
              "year            0\n",
              "region          0\n",
              "dtype: int64"
            ]
          },
          "metadata": {},
          "execution_count": 6
        }
      ]
    },
    {
      "cell_type": "markdown",
      "metadata": {
        "id": "b9a73f1c"
      },
      "source": [
        "### Extracting Info for data types"
      ],
      "id": "b9a73f1c"
    },
    {
      "cell_type": "code",
      "metadata": {
        "colab": {
          "base_uri": "https://localhost:8080/"
        },
        "id": "ba803637",
        "scrolled": true,
        "outputId": "7b7d543f-7a1e-4866-e8e7-760eb9e28b02"
      },
      "source": [
        "train.info()"
      ],
      "id": "ba803637",
      "execution_count": 7,
      "outputs": [
        {
          "output_type": "stream",
          "name": "stdout",
          "text": [
            "<class 'pandas.core.frame.DataFrame'>\n",
            "RangeIndex: 12774 entries, 0 to 12773\n",
            "Data columns (total 15 columns):\n",
            " #   Column        Non-Null Count  Dtype  \n",
            "---  ------        --------------  -----  \n",
            " 0   id            12774 non-null  int64  \n",
            " 1   Unnamed: 0.1  12774 non-null  int64  \n",
            " 2   Date          12774 non-null  object \n",
            " 3   AveragePrice  12774 non-null  float64\n",
            " 4   Total Volume  12774 non-null  float64\n",
            " 5   4046          12774 non-null  float64\n",
            " 6   4225          12774 non-null  float64\n",
            " 7   4770          12774 non-null  float64\n",
            " 8   Total Bags    12774 non-null  float64\n",
            " 9   Small Bags    12774 non-null  float64\n",
            " 10  Large Bags    12774 non-null  float64\n",
            " 11  XLarge Bags   12774 non-null  float64\n",
            " 12  type          12774 non-null  object \n",
            " 13  year          12774 non-null  int64  \n",
            " 14  region        12774 non-null  object \n",
            "dtypes: float64(9), int64(3), object(3)\n",
            "memory usage: 1.5+ MB\n"
          ]
        }
      ]
    },
    {
      "cell_type": "code",
      "metadata": {
        "id": "6e7f2029"
      },
      "source": [
        "from sklearn.preprocessing import LabelEncoder\n",
        "\n",
        "label = LabelEncoder()\n",
        "train['type'] = label.fit_transform(train['type'])\n",
        "train['region'] = label.fit_transform(train['region'])\n",
        "test['type'] = label.fit_transform(test['type'])\n",
        "test['region'] = label.fit_transform(test['region'])"
      ],
      "id": "6e7f2029",
      "execution_count": 8,
      "outputs": []
    },
    {
      "cell_type": "markdown",
      "metadata": {
        "id": "da99cf37"
      },
      "source": [
        "### Get month from 'Date' and drop the column."
      ],
      "id": "da99cf37"
    },
    {
      "cell_type": "code",
      "metadata": {
        "id": "6d4f4f8f"
      },
      "source": [
        "train['Month'] = pd.to_datetime(train['Date']).dt.month\n",
        "train.drop('Date', axis=1, inplace=True)\n",
        "test['Month'] = pd.to_datetime(test['Date']).dt.month\n",
        "test.drop('Date', axis=1, inplace=True)"
      ],
      "id": "6d4f4f8f",
      "execution_count": 9,
      "outputs": []
    },
    {
      "cell_type": "markdown",
      "metadata": {
        "id": "c20fdcb7"
      },
      "source": [
        "### Dropping id as it is unique "
      ],
      "id": "c20fdcb7"
    },
    {
      "cell_type": "code",
      "metadata": {
        "id": "4c9df193"
      },
      "source": [
        "train=train.drop(['id'],axis=1)\n",
        "test=test.drop(['id'],axis=1)"
      ],
      "id": "4c9df193",
      "execution_count": 10,
      "outputs": []
    },
    {
      "cell_type": "markdown",
      "metadata": {
        "id": "d39c3063"
      },
      "source": [
        "### Correlation"
      ],
      "id": "d39c3063"
    },
    {
      "cell_type": "code",
      "metadata": {
        "colab": {
          "base_uri": "https://localhost:8080/",
          "height": 656
        },
        "id": "ce92ae6c",
        "outputId": "9d644c20-2c5b-4600-c421-528b64e8149b"
      },
      "source": [
        "plt.figure(figsize=(12,10))\n",
        "sns.heatmap(train.corr(),annot=True,cmap='BuGn')\n",
        "plt.show()"
      ],
      "id": "ce92ae6c",
      "execution_count": 11,
      "outputs": [
        {
          "output_type": "display_data",
          "data": {
            "image/png": "[encoded data removed]",
            "text/plain": [
              "<Figure size 864x720 with 2 Axes>"
            ]
          },
          "metadata": {
            "needs_background": "light"
          }
        }
      ]
    },
    {
      "cell_type": "code",
      "metadata": {
        "id": "BwohVKvqXW8T"
      },
      "source": [
        "train=train.drop(['4046'],axis=1)\n",
        "test=test.drop(['4046'],axis=1)\n",
        "# train=train.drop(['4770'],axis=1)\n",
        "# test=test.drop(['4770'],axis=1)\n",
        "# train=train.drop(['4225'],axis=1)\n",
        "# test=test.drop(['4225'],axis=1)\n",
        "# train=train.drop(['Unnamed: 0.1'],axis=1)\n",
        "# test=test.drop(['Unnamed: 0.1'],axis=1)\n",
        "train=train.drop(['Total Volume'],axis=1)\n",
        "test=test.drop(['Total Volume'],axis=1)\n",
        "# train=train.drop(['Total Bags'],axis=1)\n",
        "# test=test.drop(['Total Bags'],axis=1)\n",
        "# train=train.drop(['Small Bags'],axis=1)\n",
        "# test=test.drop(['Small Bags'],axis=1)\n",
        "# train=train.drop(['Large Bags'],axis=1)\n",
        "# test=test.drop(['Large Bags'],axis=1)\n",
        "# train=train.drop(['XLarge Bags'],axis=1)\n",
        "# test=test.drop(['XLarge Bags'],axis=1)\n",
        "# train=train.drop(['region'],axis=1)\n",
        "# test=test.drop(['region'],axis=1)\n",
        "# train=train.drop(['type'],axis=1)\n",
        "# test=test.drop(['type'],axis=1)"
      ],
      "id": "BwohVKvqXW8T",
      "execution_count": 12,
      "outputs": []
    },
    {
      "cell_type": "code",
      "metadata": {
        "colab": {
          "base_uri": "https://localhost:8080/",
          "height": 404
        },
        "id": "X2or5NWN7gW6",
        "outputId": "e301a426-7817-4d33-9e7c-e282f89f3dfd"
      },
      "source": [
        "plt.figure(figsize=(10,6))\n",
        "train.iloc[:,:-1].boxplot(vert=0)"
      ],
      "id": "X2or5NWN7gW6",
      "execution_count": 13,
      "outputs": [
        {
          "output_type": "execute_result",
          "data": {
            "text/plain": [
              "<matplotlib.axes._subplots.AxesSubplot at 0x7f929dedcdd0>"
            ]
          },
          "metadata": {},
          "execution_count": 13
        },
        {
          "output_type": "display_data",
          "data": {
            "image/png": "[encoded data removed]",
            "text/plain": [
              "<Figure size 720x432 with 1 Axes>"
            ]
          },
          "metadata": {
            "needs_background": "light"
          }
        }
      ]
    },
    {
      "cell_type": "code",
      "metadata": {
        "id": "1vrSq_ff7gFv"
      },
      "source": [
        "for col in train.columns:\n",
        "    Q1 = np.percentile(train[col], 25, interpolation = 'midpoint')\n",
        "    #Q2 = np.percentile(df['fixed acidity'], 50, interpolation = 'midpoint')  \n",
        "    Q3 = np.percentile(train[col], 75, interpolation = 'midpoint')\n",
        "    IQR = Q3 - Q1\n",
        "    low_value = Q1 - 1.5 * IQR\n",
        "    high_value = Q3 + 1.5 * IQR\n",
        "    train[col] =np.where(train[col] >high_value, high_value, train[col])\n",
        "    train[col] =np.where(train[col] <low_value, low_value, train[col])"
      ],
      "id": "1vrSq_ff7gFv",
      "execution_count": 14,
      "outputs": []
    },
    {
      "cell_type": "code",
      "metadata": {
        "colab": {
          "base_uri": "https://localhost:8080/",
          "height": 391
        },
        "id": "KJdsJANT7foX",
        "outputId": "cd0caf13-4eb9-4d87-df7f-4fff85de32fc"
      },
      "source": [
        "plt.figure(figsize=(10,6))\n",
        "train.iloc[:,:-1].boxplot(vert=0)"
      ],
      "id": "KJdsJANT7foX",
      "execution_count": 15,
      "outputs": [
        {
          "output_type": "execute_result",
          "data": {
            "text/plain": [
              "<matplotlib.axes._subplots.AxesSubplot at 0x7f929e00d990>"
            ]
          },
          "metadata": {},
          "execution_count": 15
        },
        {
          "output_type": "display_data",
          "data": {
            "image/png": "[encoded data removed]",
            "text/plain": [
              "<Figure size 720x432 with 1 Axes>"
            ]
          },
          "metadata": {
            "needs_background": "light"
          }
        }
      ]
    },
    {
      "cell_type": "markdown",
      "metadata": {
        "id": "d7a73427"
      },
      "source": [
        "### Training and Testing "
      ],
      "id": "d7a73427"
    },
    {
      "cell_type": "code",
      "metadata": {
        "id": "8396bc7c"
      },
      "source": [
        "from sklearn.linear_model import LinearRegression\n",
        "from sklearn.ensemble import RandomForestRegressor, GradientBoostingRegressor\n",
        "from sklearn.tree import DecisionTreeRegressor\n",
        "from xgboost import XGBRegressor\n",
        "from sklearn.model_selection import train_test_split\n",
        "from sklearn.preprocessing import StandardScaler\n",
        "\n",
        "\n",
        "X = train.drop('AveragePrice', axis=1)\n",
        "y = train['AveragePrice']\n",
        "\n",
        "scaler = StandardScaler()\n",
        "X_scaled = scaler.fit_transform(X)\n",
        "\n",
        "X_train, X_test, y_train, y_test = train_test_split(X_scaled, y, test_size=0.2, random_state=0)"
      ],
      "id": "8396bc7c",
      "execution_count": 16,
      "outputs": []
    },
    {
      "cell_type": "code",
      "metadata": {
        "id": "7Kb-j8ugeOrB"
      },
      "source": [
        "from sklearn.model_selection import GridSearchCV\n",
        "\n",
        "models = []\n",
        "scores = []"
      ],
      "id": "7Kb-j8ugeOrB",
      "execution_count": 17,
      "outputs": []
    },
    {
      "cell_type": "code",
      "metadata": {
        "colab": {
          "base_uri": "https://localhost:8080/"
        },
        "id": "5rNyirE2eO23",
        "outputId": "33c2a159-8446-40f7-ba33-def5e50e722c"
      },
      "source": [
        "param_grid = {'max_depth' : [2, 3, 4, 5, 6, 7, 8, 9]}\n",
        "model = XGBRegressor()\n",
        "\n",
        "grid_search = GridSearchCV(model, param_grid, cv=5)\n",
        "grid_search.fit(X_train, y_train)\n",
        "gb_score = grid_search.score(X_test, y_test)\n",
        "\n",
        "print('Test Score : {:.4f}'.format(gb_score))\n",
        "print('Best Parameters :', grid_search.best_params_)\n",
        "print('Best CV Score : {:.4f}'.format(grid_search.best_score_))\n",
        "\n",
        "models.append('Gradient Boost')\n",
        "scores.append(gb_score)"
      ],
      "id": "5rNyirE2eO23",
      "execution_count": 18,
      "outputs": [
        {
          "output_type": "stream",
          "name": "stdout",
          "text": [
            "[06:41:40] WARNING: /workspace/src/objective/regression_obj.cu:152: reg:linear is now deprecated in favor of reg:squarederror.\n",
            "[06:41:40] WARNING: /workspace/src/objective/regression_obj.cu:152: reg:linear is now deprecated in favor of reg:squarederror.\n",
            "[06:41:41] WARNING: /workspace/src/objective/regression_obj.cu:152: reg:linear is now deprecated in favor of reg:squarederror.\n",
            "[06:41:41] WARNING: /workspace/src/objective/regression_obj.cu:152: reg:linear is now deprecated in favor of reg:squarederror.\n",
            "[06:41:41] WARNING: /workspace/src/objective/regression_obj.cu:152: reg:linear is now deprecated in favor of reg:squarederror.\n",
            "[06:41:42] WARNING: /workspace/src/objective/regression_obj.cu:152: reg:linear is now deprecated in favor of reg:squarederror.\n",
            "[06:41:42] WARNING: /workspace/src/objective/regression_obj.cu:152: reg:linear is now deprecated in favor of reg:squarederror.\n",
            "[06:41:43] WARNING: /workspace/src/objective/regression_obj.cu:152: reg:linear is now deprecated in favor of reg:squarederror.\n",
            "[06:41:43] WARNING: /workspace/src/objective/regression_obj.cu:152: reg:linear is now deprecated in favor of reg:squarederror.\n",
            "[06:41:44] WARNING: /workspace/src/objective/regression_obj.cu:152: reg:linear is now deprecated in favor of reg:squarederror.\n",
            "[06:41:44] WARNING: /workspace/src/objective/regression_obj.cu:152: reg:linear is now deprecated in favor of reg:squarederror.\n",
            "[06:41:45] WARNING: /workspace/src/objective/regression_obj.cu:152: reg:linear is now deprecated in favor of reg:squarederror.\n",
            "[06:41:45] WARNING: /workspace/src/objective/regression_obj.cu:152: reg:linear is now deprecated in favor of reg:squarederror.\n",
            "[06:41:46] WARNING: /workspace/src/objective/regression_obj.cu:152: reg:linear is now deprecated in favor of reg:squarederror.\n",
            "[06:41:46] WARNING: /workspace/src/objective/regression_obj.cu:152: reg:linear is now deprecated in favor of reg:squarederror.\n",
            "[06:41:47] WARNING: /workspace/src/objective/regression_obj.cu:152: reg:linear is now deprecated in favor of reg:squarederror.\n",
            "[06:41:48] WARNING: /workspace/src/objective/regression_obj.cu:152: reg:linear is now deprecated in favor of reg:squarederror.\n",
            "[06:41:49] WARNING: /workspace/src/objective/regression_obj.cu:152: reg:linear is now deprecated in favor of reg:squarederror.\n",
            "[06:41:49] WARNING: /workspace/src/objective/regression_obj.cu:152: reg:linear is now deprecated in favor of reg:squarederror.\n",
            "[06:41:50] WARNING: /workspace/src/objective/regression_obj.cu:152: reg:linear is now deprecated in favor of reg:squarederror.\n",
            "[06:41:51] WARNING: /workspace/src/objective/regression_obj.cu:152: reg:linear is now deprecated in favor of reg:squarederror.\n",
            "[06:41:52] WARNING: /workspace/src/objective/regression_obj.cu:152: reg:linear is now deprecated in favor of reg:squarederror.\n",
            "[06:41:53] WARNING: /workspace/src/objective/regression_obj.cu:152: reg:linear is now deprecated in favor of reg:squarederror.\n",
            "[06:41:54] WARNING: /workspace/src/objective/regression_obj.cu:152: reg:linear is now deprecated in favor of reg:squarederror.\n",
            "[06:41:55] WARNING: /workspace/src/objective/regression_obj.cu:152: reg:linear is now deprecated in favor of reg:squarederror.\n",
            "[06:41:56] WARNING: /workspace/src/objective/regression_obj.cu:152: reg:linear is now deprecated in favor of reg:squarederror.\n",
            "[06:41:57] WARNING: /workspace/src/objective/regression_obj.cu:152: reg:linear is now deprecated in favor of reg:squarederror.\n",
            "[06:41:58] WARNING: /workspace/src/objective/regression_obj.cu:152: reg:linear is now deprecated in favor of reg:squarederror.\n",
            "[06:41:59] WARNING: /workspace/src/objective/regression_obj.cu:152: reg:linear is now deprecated in favor of reg:squarederror.\n",
            "[06:42:00] WARNING: /workspace/src/objective/regression_obj.cu:152: reg:linear is now deprecated in favor of reg:squarederror.\n",
            "[06:42:01] WARNING: /workspace/src/objective/regression_obj.cu:152: reg:linear is now deprecated in favor of reg:squarederror.\n",
            "[06:42:03] WARNING: /workspace/src/objective/regression_obj.cu:152: reg:linear is now deprecated in favor of reg:squarederror.\n",
            "[06:42:04] WARNING: /workspace/src/objective/regression_obj.cu:152: reg:linear is now deprecated in favor of reg:squarederror.\n",
            "[06:42:05] WARNING: /workspace/src/objective/regression_obj.cu:152: reg:linear is now deprecated in favor of reg:squarederror.\n",
            "[06:42:07] WARNING: /workspace/src/objective/regression_obj.cu:152: reg:linear is now deprecated in favor of reg:squarederror.\n",
            "[06:42:08] WARNING: /workspace/src/objective/regression_obj.cu:152: reg:linear is now deprecated in favor of reg:squarederror.\n",
            "[06:42:09] WARNING: /workspace/src/objective/regression_obj.cu:152: reg:linear is now deprecated in favor of reg:squarederror.\n",
            "[06:42:11] WARNING: /workspace/src/objective/regression_obj.cu:152: reg:linear is now deprecated in favor of reg:squarederror.\n",
            "[06:42:12] WARNING: /workspace/src/objective/regression_obj.cu:152: reg:linear is now deprecated in favor of reg:squarederror.\n",
            "[06:42:14] WARNING: /workspace/src/objective/regression_obj.cu:152: reg:linear is now deprecated in favor of reg:squarederror.\n",
            "[06:42:16] WARNING: /workspace/src/objective/regression_obj.cu:152: reg:linear is now deprecated in favor of reg:squarederror.\n",
            "Test Score : 0.9072\n",
            "Best Parameters : {'max_depth': 9}\n",
            "Best CV Score : 0.8913\n"
          ]
        }
      ]
    },
    {
      "cell_type": "code",
      "metadata": {
        "colab": {
          "base_uri": "https://localhost:8080/"
        },
        "id": "2e7ea5d2",
        "outputId": "b3dcf407-cdd7-4aec-9e3d-6fb0451632ff"
      },
      "source": [
        "# model = LinearRegression()\n",
        "# model = RandomForestRegressor()\n",
        "# model = DecisionTreeRegressor()\n",
        "# model = GradientBoostingRegressor()\n",
        "# model = XGBRegressor()\n",
        "model.fit(X_train, y_train)"
      ],
      "id": "2e7ea5d2",
      "execution_count": 19,
      "outputs": [
        {
          "output_type": "stream",
          "name": "stdout",
          "text": [
            "[06:42:17] WARNING: /workspace/src/objective/regression_obj.cu:152: reg:linear is now deprecated in favor of reg:squarederror.\n"
          ]
        },
        {
          "output_type": "execute_result",
          "data": {
            "text/plain": [
              "XGBRegressor(base_score=0.5, booster='gbtree', colsample_bylevel=1,\n",
              "             colsample_bynode=1, colsample_bytree=1, gamma=0,\n",
              "             importance_type='gain', learning_rate=0.1, max_delta_step=0,\n",
              "             max_depth=3, min_child_weight=1, missing=None, n_estimators=100,\n",
              "             n_jobs=1, nthread=None, objective='reg:linear', random_state=0,\n",
              "             reg_alpha=0, reg_lambda=1, scale_pos_weight=1, seed=None,\n",
              "             silent=None, subsample=1, verbosity=1)"
            ]
          },
          "metadata": {},
          "execution_count": 19
        }
      ]
    },
    {
      "cell_type": "code",
      "metadata": {
        "id": "17c62f71"
      },
      "source": [
        "train_pred = model.predict(X_train)\n",
        "test_pred = model.predict(X_test)"
      ],
      "id": "17c62f71",
      "execution_count": 20,
      "outputs": []
    },
    {
      "cell_type": "code",
      "metadata": {
        "colab": {
          "base_uri": "https://localhost:8080/"
        },
        "id": "68ac5077",
        "outputId": "50862392-0187-4ea4-cdd7-44025c25eb30"
      },
      "source": [
        "print('Train Score : {:.4f}'.format(model.score(X_train, y_train)))\n",
        "print('Test Score : {:.4f}'.format(model.score(X_test, y_test)))"
      ],
      "id": "68ac5077",
      "execution_count": 21,
      "outputs": [
        {
          "output_type": "stream",
          "name": "stdout",
          "text": [
            "Train Score : 0.7660\n",
            "Test Score : 0.7458\n"
          ]
        }
      ]
    },
    {
      "cell_type": "code",
      "metadata": {
        "colab": {
          "base_uri": "https://localhost:8080/"
        },
        "id": "56ffbc31",
        "outputId": "49344c32-875d-4979-acb7-e06953ff240f"
      },
      "source": [
        "y_test"
      ],
      "id": "56ffbc31",
      "execution_count": 22,
      "outputs": [
        {
          "output_type": "execute_result",
          "data": {
            "text/plain": [
              "8073     2.320\n",
              "8548     0.920\n",
              "8089     1.040\n",
              "11188    1.500\n",
              "8230     2.525\n",
              "         ...  \n",
              "800      1.000\n",
              "5369     1.630\n",
              "4036     1.630\n",
              "5644     2.350\n",
              "11539    1.350\n",
              "Name: AveragePrice, Length: 2555, dtype: float64"
            ]
          },
          "metadata": {},
          "execution_count": 22
        }
      ]
    },
    {
      "cell_type": "code",
      "metadata": {
        "colab": {
          "base_uri": "https://localhost:8080/"
        },
        "id": "apOamwBiZT9K",
        "outputId": "e6374525-29ab-44ca-9e5a-5712c27a54cb"
      },
      "source": [
        "from sklearn.metrics import mean_absolute_error\n",
        "mean_absolute_error(y_test, test_pred)"
      ],
      "id": "apOamwBiZT9K",
      "execution_count": 23,
      "outputs": [
        {
          "output_type": "execute_result",
          "data": {
            "text/plain": [
              "0.15704279569730367"
            ]
          },
          "metadata": {},
          "execution_count": 23
        }
      ]
    },
    {
      "cell_type": "code",
      "metadata": {
        "colab": {
          "base_uri": "https://localhost:8080/",
          "height": 306
        },
        "id": "50c76138",
        "outputId": "584e669b-6c14-4771-8ace-c0c66fadeb73"
      },
      "source": [
        "sub = pd.read_csv('test.csv')\n",
        "sub.head()"
      ],
      "id": "50c76138",
      "execution_count": 24,
      "outputs": [
        {
          "output_type": "execute_result",
          "data": {
            "text/html": [
              "<div>\n",
              "<style scoped>\n",
              "    .dataframe tbody tr th:only-of-type {\n",
              "        vertical-align: middle;\n",
              "    }\n",
              "\n",
              "    .dataframe tbody tr th {\n",
              "        vertical-align: top;\n",
              "    }\n",
              "\n",
              "    .dataframe thead th {\n",
              "        text-align: right;\n",
              "    }\n",
              "</style>\n",
              "<table border=\"1\" class=\"dataframe\">\n",
              "  <thead>\n",
              "    <tr style=\"text-align: right;\">\n",
              "      <th></th>\n",
              "      <th>id</th>\n",
              "      <th>Unnamed: 0.1</th>\n",
              "      <th>Date</th>\n",
              "      <th>Total Volume</th>\n",
              "      <th>4046</th>\n",
              "      <th>4225</th>\n",
              "      <th>4770</th>\n",
              "      <th>Total Bags</th>\n",
              "      <th>Small Bags</th>\n",
              "      <th>Large Bags</th>\n",
              "      <th>XLarge Bags</th>\n",
              "      <th>type</th>\n",
              "      <th>year</th>\n",
              "      <th>region</th>\n",
              "    </tr>\n",
              "  </thead>\n",
              "  <tbody>\n",
              "    <tr>\n",
              "      <th>0</th>\n",
              "      <td>2</td>\n",
              "      <td>27</td>\n",
              "      <td>2016-06-19</td>\n",
              "      <td>13092.10</td>\n",
              "      <td>5180.03</td>\n",
              "      <td>6593.84</td>\n",
              "      <td>0.00</td>\n",
              "      <td>1318.23</td>\n",
              "      <td>563.36</td>\n",
              "      <td>754.87</td>\n",
              "      <td>0.0</td>\n",
              "      <td>organic</td>\n",
              "      <td>2016</td>\n",
              "      <td>LasVegas</td>\n",
              "    </tr>\n",
              "    <tr>\n",
              "      <th>1</th>\n",
              "      <td>3</td>\n",
              "      <td>49</td>\n",
              "      <td>2015-01-18</td>\n",
              "      <td>367047.36</td>\n",
              "      <td>83097.77</td>\n",
              "      <td>238956.51</td>\n",
              "      <td>5672.46</td>\n",
              "      <td>39320.62</td>\n",
              "      <td>39320.62</td>\n",
              "      <td>0.00</td>\n",
              "      <td>0.0</td>\n",
              "      <td>conventional</td>\n",
              "      <td>2015</td>\n",
              "      <td>Sacramento</td>\n",
              "    </tr>\n",
              "    <tr>\n",
              "      <th>2</th>\n",
              "      <td>7</td>\n",
              "      <td>28</td>\n",
              "      <td>2016-06-12</td>\n",
              "      <td>16462.75</td>\n",
              "      <td>2079.57</td>\n",
              "      <td>5830.96</td>\n",
              "      <td>0.00</td>\n",
              "      <td>8552.22</td>\n",
              "      <td>894.77</td>\n",
              "      <td>7657.45</td>\n",
              "      <td>0.0</td>\n",
              "      <td>organic</td>\n",
              "      <td>2016</td>\n",
              "      <td>Atlanta</td>\n",
              "    </tr>\n",
              "    <tr>\n",
              "      <th>3</th>\n",
              "      <td>8</td>\n",
              "      <td>28</td>\n",
              "      <td>2017-06-18</td>\n",
              "      <td>149975.22</td>\n",
              "      <td>38471.13</td>\n",
              "      <td>9716.75</td>\n",
              "      <td>0.00</td>\n",
              "      <td>101787.34</td>\n",
              "      <td>94445.95</td>\n",
              "      <td>7341.39</td>\n",
              "      <td>0.0</td>\n",
              "      <td>organic</td>\n",
              "      <td>2017</td>\n",
              "      <td>SouthCentral</td>\n",
              "    </tr>\n",
              "    <tr>\n",
              "      <th>4</th>\n",
              "      <td>17</td>\n",
              "      <td>44</td>\n",
              "      <td>2015-02-22</td>\n",
              "      <td>7176.69</td>\n",
              "      <td>651.55</td>\n",
              "      <td>5368.11</td>\n",
              "      <td>0.00</td>\n",
              "      <td>1157.03</td>\n",
              "      <td>340.00</td>\n",
              "      <td>817.03</td>\n",
              "      <td>0.0</td>\n",
              "      <td>organic</td>\n",
              "      <td>2015</td>\n",
              "      <td>Detroit</td>\n",
              "    </tr>\n",
              "  </tbody>\n",
              "</table>\n",
              "</div>"
            ],
            "text/plain": [
              "   id  Unnamed: 0.1        Date  ...          type  year        region\n",
              "0   2            27  2016-06-19  ...       organic  2016      LasVegas\n",
              "1   3            49  2015-01-18  ...  conventional  2015    Sacramento\n",
              "2   7            28  2016-06-12  ...       organic  2016       Atlanta\n",
              "3   8            28  2017-06-18  ...       organic  2017  SouthCentral\n",
              "4  17            44  2015-02-22  ...       organic  2015       Detroit\n",
              "\n",
              "[5 rows x 14 columns]"
            ]
          },
          "metadata": {},
          "execution_count": 24
        }
      ]
    },
    {
      "cell_type": "code",
      "metadata": {
        "colab": {
          "base_uri": "https://localhost:8080/",
          "height": 419
        },
        "id": "1b8644e2",
        "outputId": "43aa2648-a402-43b1-dd3b-cd3349f6e5b2"
      },
      "source": [
        "sub_preds= model.predict(test.values)\n",
        "sub['AveragePrice'] = sub_preds\n",
        "sub=sub.iloc[:, [0, -1]]\n",
        "sub"
      ],
      "id": "1b8644e2",
      "execution_count": 25,
      "outputs": [
        {
          "output_type": "execute_result",
          "data": {
            "text/html": [
              "<div>\n",
              "<style scoped>\n",
              "    .dataframe tbody tr th:only-of-type {\n",
              "        vertical-align: middle;\n",
              "    }\n",
              "\n",
              "    .dataframe tbody tr th {\n",
              "        vertical-align: top;\n",
              "    }\n",
              "\n",
              "    .dataframe thead th {\n",
              "        text-align: right;\n",
              "    }\n",
              "</style>\n",
              "<table border=\"1\" class=\"dataframe\">\n",
              "  <thead>\n",
              "    <tr style=\"text-align: right;\">\n",
              "      <th></th>\n",
              "      <th>id</th>\n",
              "      <th>AveragePrice</th>\n",
              "    </tr>\n",
              "  </thead>\n",
              "  <tbody>\n",
              "    <tr>\n",
              "      <th>0</th>\n",
              "      <td>2</td>\n",
              "      <td>1.355559</td>\n",
              "    </tr>\n",
              "    <tr>\n",
              "      <th>1</th>\n",
              "      <td>3</td>\n",
              "      <td>1.515056</td>\n",
              "    </tr>\n",
              "    <tr>\n",
              "      <th>2</th>\n",
              "      <td>7</td>\n",
              "      <td>1.463439</td>\n",
              "    </tr>\n",
              "    <tr>\n",
              "      <th>3</th>\n",
              "      <td>8</td>\n",
              "      <td>1.355559</td>\n",
              "    </tr>\n",
              "    <tr>\n",
              "      <th>4</th>\n",
              "      <td>17</td>\n",
              "      <td>1.355559</td>\n",
              "    </tr>\n",
              "    <tr>\n",
              "      <th>...</th>\n",
              "      <td>...</td>\n",
              "      <td>...</td>\n",
              "    </tr>\n",
              "    <tr>\n",
              "      <th>5470</th>\n",
              "      <td>18239</td>\n",
              "      <td>1.355559</td>\n",
              "    </tr>\n",
              "    <tr>\n",
              "      <th>5471</th>\n",
              "      <td>18244</td>\n",
              "      <td>1.355559</td>\n",
              "    </tr>\n",
              "    <tr>\n",
              "      <th>5472</th>\n",
              "      <td>18246</td>\n",
              "      <td>1.311563</td>\n",
              "    </tr>\n",
              "    <tr>\n",
              "      <th>5473</th>\n",
              "      <td>18247</td>\n",
              "      <td>1.311563</td>\n",
              "    </tr>\n",
              "    <tr>\n",
              "      <th>5474</th>\n",
              "      <td>18248</td>\n",
              "      <td>1.311563</td>\n",
              "    </tr>\n",
              "  </tbody>\n",
              "</table>\n",
              "<p>5475 rows × 2 columns</p>\n",
              "</div>"
            ],
            "text/plain": [
              "         id  AveragePrice\n",
              "0         2      1.355559\n",
              "1         3      1.515056\n",
              "2         7      1.463439\n",
              "3         8      1.355559\n",
              "4        17      1.355559\n",
              "...     ...           ...\n",
              "5470  18239      1.355559\n",
              "5471  18244      1.355559\n",
              "5472  18246      1.311563\n",
              "5473  18247      1.311563\n",
              "5474  18248      1.311563\n",
              "\n",
              "[5475 rows x 2 columns]"
            ]
          },
          "metadata": {},
          "execution_count": 25
        }
      ]
    },
    {
      "cell_type": "code",
      "metadata": {
        "id": "55280b69"
      },
      "source": [
        "sub.to_csv('submission.csv', index=False)"
      ],
      "id": "55280b69",
      "execution_count": 26,
      "outputs": []
    }
  ]
}